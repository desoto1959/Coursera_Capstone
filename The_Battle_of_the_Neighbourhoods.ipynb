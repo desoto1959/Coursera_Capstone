{
    "cells": [
        {
            "cell_type": "markdown",
            "metadata": {
                "collapsed": true
            },
            "source": "# The Battle of the Neigbourhoods"
        },
        {
            "cell_type": "markdown",
            "metadata": {},
            "source": "In this notebook the neighbourhoods in the city of Toronto will be segmented en clustered based on the postalcode and borough information.<br><br>\nPart 1: Collecting Toronto Neighbourhood data<br>\nFor the Toronto neighbourhood data, a Wikipedia page exists that has all the information that is neccessary to explore and cluster the neighbourhoods in Toronto.<br> The required HTML table from the Wikipedia page will be used to read into a pandas dataframe.<br><br>\nPart 2: Collecting geographical coordinates of Toronto<br>\nAfter cleaning en preprocessing of the data, it will be enriched with the geographical coordinates.<br><br>\nPart 3: Clustering the neighbourhoods of Toronto<br>\nThen the venues in each neighbourhood will be collected form the FOURSQUARE website. The top 10 venues of each neighbourhoods will be determined.<br> \nThe K-means algoritm is used to cluster the neighbourhoods, which are then visualized in a map of Toronto using Folium.<br>"
        },
        {
            "cell_type": "markdown",
            "metadata": {},
            "source": "## Part 1: Collecting the Toronto neighbourhood data."
        },
        {
            "cell_type": "markdown",
            "metadata": {},
            "source": "### Importing libraries"
        },
        {
            "cell_type": "code",
            "execution_count": 1,
            "metadata": {},
            "outputs": [
                {
                    "name": "stdout",
                    "output_type": "stream",
                    "text": "Requirement already satisfied: beautifulsoup4 in /opt/conda/envs/Python-3.7-main/lib/python3.7/site-packages (4.9.1)\nRequirement already satisfied: soupsieve>1.2 in /opt/conda/envs/Python-3.7-main/lib/python3.7/site-packages (from beautifulsoup4) (2.0.1)\nRequirement already satisfied: lxml in /opt/conda/envs/Python-3.7-main/lib/python3.7/site-packages (4.5.1)\nImporting ready!\n"
                }
            ],
            "source": "!pip install beautifulsoup4\n!pip install lxml\nimport requests # library to handle requests\nimport pandas as pd # library for data analsysis\nimport numpy as np # library to handle data in a vectorized manner\n\nfrom bs4 import BeautifulSoup # Library for scraping webpage\nfrom IPython.display import display_html # Library for displaying HTML\n\n#!pip install geopy\nfrom geopy.geocoders import Nominatim # convert an address into latitude and longitude values\n\nprint('Importing ready!')"
        },
        {
            "cell_type": "markdown",
            "metadata": {},
            "source": "### Retreive neighbourhoods of Amsterdam from Wikipedia webpage"
        },
        {
            "cell_type": "code",
            "execution_count": 2,
            "metadata": {},
            "outputs": [
                {
                    "name": "stdout",
                    "output_type": "stream",
                    "text": "<title>Category:Neighbourhoods of Amsterdam - Wikipedia</title>\n"
                },
                {
                    "data": {
                        "text/plain": "[['Amsterdam', 'Template:Neighborhoods of Amsterdam'],\n ['Amsterdam', 'Admiralenbuurt'],\n ['Amsterdam', 'Amsteldorp'],\n ['Amsterdam', 'Amsterdam Oud-West'],\n ['Amsterdam', 'Amsterdam Oud-Zuid'],\n ['Amsterdam', 'Amsterdam Science Park'],\n ['Amsterdam', 'Apollobuurt'],\n ['Amsterdam', 'Betondorp'],\n ['Amsterdam', 'Bijlmermeer'],\n ['Amsterdam', 'Binnenstad (Amsterdam)'],\n ['Amsterdam', 'Bos en Lommer'],\n ['Amsterdam', 'Buiksloot'],\n ['Amsterdam', 'Buikslotermeer'],\n ['Amsterdam', 'Buitenveldert'],\n ['Amsterdam', 'Bullewijk'],\n ['Amsterdam', 'Burgwallen Nieuwe Zijde'],\n ['Amsterdam', 'Burgwallen Oude Zijde'],\n ['Amsterdam', 'Chass\u00e9buurt'],\n ['Amsterdam', 'Cruquiuseiland'],\n ['Amsterdam', 'Czaar Peterbuurt'],\n ['Amsterdam', 'Dapperbuurt'],\n ['Amsterdam', 'De Aker'],\n ['Amsterdam', 'De Pijp'],\n ['Amsterdam', 'De Wallen'],\n ['Amsterdam', 'Diamantbuurt (Amsterdam)'],\n ['Amsterdam', 'Duivelseiland (Amsterdam)'],\n ['Amsterdam', 'Eastern Docklands'],\n ['Amsterdam', 'Eendracht (Amsterdam)'],\n ['Amsterdam', 'Floradorp'],\n ['Amsterdam', 'Frederik Hendrikbuurt'],\n ['Amsterdam', 'Gaasperdam'],\n ['Amsterdam', 'Geuzenveld'],\n ['Amsterdam', 'Gouden Reael'],\n ['Amsterdam', 'Grachtengordel'],\n ['Amsterdam', 'Haarlemmerbuurt (Amsterdam)'],\n ['Amsterdam', 'Hoofddorppleinbuurt'],\n ['Amsterdam', 'Houthaven'],\n ['Amsterdam', 'IJburg'],\n ['Amsterdam', 'Indische Buurt'],\n ['Amsterdam', 'Java-eiland'],\n ['Amsterdam', 'Jodenbuurt'],\n ['Amsterdam', 'Jordaan'],\n ['Amsterdam', 'Kadijken'],\n ['Amsterdam', 'Kadoelen'],\n ['Amsterdam', 'Kinkerbuurt'],\n ['Amsterdam', 'KNSM Island'],\n ['Amsterdam', 'Kolenkit District'],\n ['Amsterdam', 'Landelijk Noord'],\n ['Amsterdam', 'Landlust'],\n ['Amsterdam', 'Lastage'],\n ['Amsterdam', 'Middelveldsche Akerpolder'],\n ['Amsterdam', 'Molenwijk (Amsterdam)'],\n ['Amsterdam', 'Museumkwartier (Amsterdam)'],\n ['Amsterdam', 'NDSM'],\n ['Amsterdam', 'Negen Straatjes'],\n ['Amsterdam', 'Nieuw Sloten'],\n ['Amsterdam', 'Nieuwe Pijp'],\n ['Amsterdam', 'Nieuwendam'],\n ['Amsterdam', 'Nieuwendammerdijk en Buiksloterdijk'],\n ['Amsterdam', 'Olympisch Kwartier'],\n ['Amsterdam', 'Omval'],\n ['Amsterdam', 'Oostelijke Eilanden'],\n ['Amsterdam', 'Oosterdokseiland'],\n ['Amsterdam', 'Oosterparkbuurt (Amsterdam)'],\n ['Amsterdam', 'Oostoever'],\n ['Amsterdam', 'Oostpoort'],\n ['Amsterdam', 'Oostzanerwerf'],\n ['Amsterdam', 'Osdorp'],\n ['Amsterdam', 'Oud Osdorp'],\n ['Amsterdam', 'Oud-Oost'],\n ['Amsterdam', 'Oude Pijp'],\n ['Amsterdam', 'Overhoeks'],\n ['Amsterdam', 'Overtoombuurt'],\n ['Amsterdam', 'Overtoomse Veld'],\n ['Amsterdam', 'Plantage'],\n ['Amsterdam', 'Prinses Irenebuurt'],\n ['Amsterdam', 'Ransdorp'],\n ['Amsterdam', 'Rapenburg (Amsterdam)'],\n ['Amsterdam', 'Rieteilanden'],\n ['Amsterdam', 'Rivierenbuurt (Amsterdam)'],\n ['Amsterdam', 'Ruigoord'],\n ['Amsterdam', 'Schellingwoude'],\n ['Amsterdam', 'Schinkelbuurt'],\n ['Amsterdam', 'Slotermeer'],\n ['Amsterdam', 'Slotervaart (neighbourhood)'],\n ['Amsterdam', 'Spaarndammerbuurt'],\n ['Amsterdam', 'Staatsliedenbuurt (Amsterdam)'],\n ['Amsterdam', 'Stadionbuurt'],\n ['Amsterdam', 'Steigereiland'],\n ['Amsterdam', 'Teleport (Amsterdam)'],\n ['Amsterdam', 'Transvaalbuurt (Amsterdam)'],\n ['Amsterdam', 'Trompbuurt'],\n ['Amsterdam', 'Tuindorp Nieuwendam'],\n ['Amsterdam', 'Tuindorp Oostzaan'],\n ['Amsterdam', 'Uilenburg (Amsterdam)'],\n ['Amsterdam', 'Venserpolder'],\n ['Amsterdam', 'Watergraafsmeer'],\n ['Amsterdam', 'Waterwijk'],\n ['Amsterdam', 'Weesperzijde (Amsterdam)'],\n ['Amsterdam', 'Westelijk Havengebied'],\n ['Amsterdam', 'Westelijke Eilanden (Amsterdam)'],\n ['Amsterdam', 'Westelijke Tuinsteden'],\n ['Amsterdam', 'Westerpark (neighbourhood)'],\n ['Amsterdam', 'Willemspark (Amsterdam)'],\n ['Amsterdam', 'Zeeburgereiland'],\n ['Amsterdam', 'Zeeheldenbuurt'],\n ['Amsterdam', 'Zuidas']]"
                    },
                    "execution_count": 2,
                    "metadata": {},
                    "output_type": "execute_result"
                }
            ],
            "source": "# Get webpage\nsource = requests.get('https://en.wikipedia.org/wiki/Category:Neighbourhoods_of_Amsterdam').text\n# Scrape webpage\nsoup = BeautifulSoup(source,'lxml')\n# Check title of webpage\nprint(soup.title)\nlst = []\nfor item in soup.findAll('div',{'class':'mw-category-group'}):\n    sub_items = item.findAll('li')\n    for sub_item in sub_items:\n        lst.append(['Amsterdam',sub_item.text])\n        \n# Get table from webpage\n#html_table = str(bsoup.table)\n# Display table\n#display_html(html_table,raw=True)\nlst"
        },
        {
            "cell_type": "code",
            "execution_count": 3,
            "metadata": {},
            "outputs": [
                {
                    "data": {
                        "text/html": "<div>\n<style scoped>\n    .dataframe tbody tr th:only-of-type {\n        vertical-align: middle;\n    }\n\n    .dataframe tbody tr th {\n        vertical-align: top;\n    }\n\n    .dataframe thead th {\n        text-align: right;\n    }\n</style>\n<table border=\"1\" class=\"dataframe\">\n  <thead>\n    <tr style=\"text-align: right;\">\n      <th></th>\n      <th>City</th>\n      <th>Neighbourhood</th>\n    </tr>\n  </thead>\n  <tbody>\n    <tr>\n      <th>0</th>\n      <td>Amsterdam</td>\n      <td>Template:Neighborhoods of Amsterdam</td>\n    </tr>\n    <tr>\n      <th>1</th>\n      <td>Amsterdam</td>\n      <td>Admiralenbuurt</td>\n    </tr>\n    <tr>\n      <th>2</th>\n      <td>Amsterdam</td>\n      <td>Amsteldorp</td>\n    </tr>\n    <tr>\n      <th>3</th>\n      <td>Amsterdam</td>\n      <td>Amsterdam Oud-West</td>\n    </tr>\n    <tr>\n      <th>4</th>\n      <td>Amsterdam</td>\n      <td>Amsterdam Oud-Zuid</td>\n    </tr>\n    <tr>\n      <th>...</th>\n      <td>...</td>\n      <td>...</td>\n    </tr>\n    <tr>\n      <th>102</th>\n      <td>Amsterdam</td>\n      <td>Westerpark (neighbourhood)</td>\n    </tr>\n    <tr>\n      <th>103</th>\n      <td>Amsterdam</td>\n      <td>Willemspark (Amsterdam)</td>\n    </tr>\n    <tr>\n      <th>104</th>\n      <td>Amsterdam</td>\n      <td>Zeeburgereiland</td>\n    </tr>\n    <tr>\n      <th>105</th>\n      <td>Amsterdam</td>\n      <td>Zeeheldenbuurt</td>\n    </tr>\n    <tr>\n      <th>106</th>\n      <td>Amsterdam</td>\n      <td>Zuidas</td>\n    </tr>\n  </tbody>\n</table>\n<p>107 rows \u00d7 2 columns</p>\n</div>",
                        "text/plain": "          City                        Neighbourhood\n0    Amsterdam  Template:Neighborhoods of Amsterdam\n1    Amsterdam                       Admiralenbuurt\n2    Amsterdam                           Amsteldorp\n3    Amsterdam                   Amsterdam Oud-West\n4    Amsterdam                   Amsterdam Oud-Zuid\n..         ...                                  ...\n102  Amsterdam           Westerpark (neighbourhood)\n103  Amsterdam              Willemspark (Amsterdam)\n104  Amsterdam                      Zeeburgereiland\n105  Amsterdam                       Zeeheldenbuurt\n106  Amsterdam                               Zuidas\n\n[107 rows x 2 columns]"
                    },
                    "execution_count": 3,
                    "metadata": {},
                    "output_type": "execute_result"
                }
            ],
            "source": "df=pd.DataFrame(lst,columns=['City','Neighbourhood'])\ndf[\"Neighbourhood\"]  = df[\"Neighbourhood\"].str.strip()\ndf"
        },
        {
            "cell_type": "code",
            "execution_count": 4,
            "metadata": {},
            "outputs": [
                {
                    "data": {
                        "text/plain": "(107, 2)"
                    },
                    "execution_count": 4,
                    "metadata": {},
                    "output_type": "execute_result"
                }
            ],
            "source": "df.shape"
        },
        {
            "cell_type": "markdown",
            "metadata": {},
            "source": "### Cleaning en preparing dataset"
        },
        {
            "cell_type": "code",
            "execution_count": 5,
            "metadata": {},
            "outputs": [
                {
                    "data": {
                        "text/plain": "1"
                    },
                    "execution_count": 5,
                    "metadata": {},
                    "output_type": "execute_result"
                }
            ],
            "source": "df.loc[df.Neighbourhood.str.contains('Template'), 'Neighbourhood'].count() # df.loc[df.Neighbourhood == 'Not assigned', 'Neighbourhood'].count()"
        },
        {
            "cell_type": "markdown",
            "metadata": {},
            "source": "### Convert HTML table to Dataframe for preprocessing"
        },
        {
            "cell_type": "code",
            "execution_count": 6,
            "metadata": {},
            "outputs": [
                {
                    "data": {
                        "text/html": "<div>\n<style scoped>\n    .dataframe tbody tr th:only-of-type {\n        vertical-align: middle;\n    }\n\n    .dataframe tbody tr th {\n        vertical-align: top;\n    }\n\n    .dataframe thead th {\n        text-align: right;\n    }\n</style>\n<table border=\"1\" class=\"dataframe\">\n  <thead>\n    <tr style=\"text-align: right;\">\n      <th></th>\n      <th>City</th>\n      <th>Neighbourhood</th>\n    </tr>\n  </thead>\n  <tbody>\n    <tr>\n      <th>1</th>\n      <td>Amsterdam</td>\n      <td>Admiralenbuurt</td>\n    </tr>\n    <tr>\n      <th>2</th>\n      <td>Amsterdam</td>\n      <td>Amsteldorp</td>\n    </tr>\n    <tr>\n      <th>3</th>\n      <td>Amsterdam</td>\n      <td>Amsterdam Oud-West</td>\n    </tr>\n    <tr>\n      <th>4</th>\n      <td>Amsterdam</td>\n      <td>Amsterdam Oud-Zuid</td>\n    </tr>\n    <tr>\n      <th>5</th>\n      <td>Amsterdam</td>\n      <td>Amsterdam Science Park</td>\n    </tr>\n    <tr>\n      <th>...</th>\n      <td>...</td>\n      <td>...</td>\n    </tr>\n    <tr>\n      <th>102</th>\n      <td>Amsterdam</td>\n      <td>Westerpark (neighbourhood)</td>\n    </tr>\n    <tr>\n      <th>103</th>\n      <td>Amsterdam</td>\n      <td>Willemspark (Amsterdam)</td>\n    </tr>\n    <tr>\n      <th>104</th>\n      <td>Amsterdam</td>\n      <td>Zeeburgereiland</td>\n    </tr>\n    <tr>\n      <th>105</th>\n      <td>Amsterdam</td>\n      <td>Zeeheldenbuurt</td>\n    </tr>\n    <tr>\n      <th>106</th>\n      <td>Amsterdam</td>\n      <td>Zuidas</td>\n    </tr>\n  </tbody>\n</table>\n<p>106 rows \u00d7 2 columns</p>\n</div>",
                        "text/plain": "          City               Neighbourhood\n1    Amsterdam              Admiralenbuurt\n2    Amsterdam                  Amsteldorp\n3    Amsterdam          Amsterdam Oud-West\n4    Amsterdam          Amsterdam Oud-Zuid\n5    Amsterdam      Amsterdam Science Park\n..         ...                         ...\n102  Amsterdam  Westerpark (neighbourhood)\n103  Amsterdam     Willemspark (Amsterdam)\n104  Amsterdam             Zeeburgereiland\n105  Amsterdam              Zeeheldenbuurt\n106  Amsterdam                      Zuidas\n\n[106 rows x 2 columns]"
                    },
                    "execution_count": 6,
                    "metadata": {},
                    "output_type": "execute_result"
                }
            ],
            "source": "df1 = df[~df.Neighbourhood.str.contains('Template')]\ndf1"
        },
        {
            "cell_type": "code",
            "execution_count": 7,
            "metadata": {},
            "outputs": [
                {
                    "data": {
                        "text/plain": "(106, 2)"
                    },
                    "execution_count": 7,
                    "metadata": {},
                    "output_type": "execute_result"
                }
            ],
            "source": "df1.shape"
        },
        {
            "cell_type": "code",
            "execution_count": 8,
            "metadata": {},
            "outputs": [
                {
                    "data": {
                        "text/plain": "19"
                    },
                    "execution_count": 8,
                    "metadata": {},
                    "output_type": "execute_result"
                }
            ],
            "source": "df1.loc[df1.Neighbourhood.str.contains('\\('), 'Neighbourhood'].count()"
        },
        {
            "cell_type": "code",
            "execution_count": 9,
            "metadata": {},
            "outputs": [
                {
                    "name": "stderr",
                    "output_type": "stream",
                    "text": "/opt/conda/envs/Python-3.7-main/lib/python3.7/site-packages/ipykernel/__main__.py:3: SettingWithCopyWarning: \nA value is trying to be set on a copy of a slice from a DataFrame.\nTry using .loc[row_indexer,col_indexer] = value instead\n\nSee the caveats in the documentation: https://pandas.pydata.org/pandas-docs/stable/user_guide/indexing.html#returning-a-view-versus-a-copy\n  app.launch_new_instance()\n"
                },
                {
                    "data": {
                        "text/html": "<div>\n<style scoped>\n    .dataframe tbody tr th:only-of-type {\n        vertical-align: middle;\n    }\n\n    .dataframe tbody tr th {\n        vertical-align: top;\n    }\n\n    .dataframe thead th {\n        text-align: right;\n    }\n</style>\n<table border=\"1\" class=\"dataframe\">\n  <thead>\n    <tr style=\"text-align: right;\">\n      <th></th>\n      <th>City</th>\n      <th>Neighbourhood</th>\n    </tr>\n  </thead>\n  <tbody>\n    <tr>\n      <th>1</th>\n      <td>Amsterdam</td>\n      <td>Admiralenbuurt</td>\n    </tr>\n    <tr>\n      <th>2</th>\n      <td>Amsterdam</td>\n      <td>Amsteldorp</td>\n    </tr>\n    <tr>\n      <th>3</th>\n      <td>Amsterdam</td>\n      <td>Amsterdam Oud-West</td>\n    </tr>\n    <tr>\n      <th>4</th>\n      <td>Amsterdam</td>\n      <td>Amsterdam Oud-Zuid</td>\n    </tr>\n    <tr>\n      <th>5</th>\n      <td>Amsterdam</td>\n      <td>Amsterdam Science Park</td>\n    </tr>\n    <tr>\n      <th>...</th>\n      <td>...</td>\n      <td>...</td>\n    </tr>\n    <tr>\n      <th>102</th>\n      <td>Amsterdam</td>\n      <td>Westerpark</td>\n    </tr>\n    <tr>\n      <th>103</th>\n      <td>Amsterdam</td>\n      <td>Willemspark</td>\n    </tr>\n    <tr>\n      <th>104</th>\n      <td>Amsterdam</td>\n      <td>Zeeburgereiland</td>\n    </tr>\n    <tr>\n      <th>105</th>\n      <td>Amsterdam</td>\n      <td>Zeeheldenbuurt</td>\n    </tr>\n    <tr>\n      <th>106</th>\n      <td>Amsterdam</td>\n      <td>Zuidas</td>\n    </tr>\n  </tbody>\n</table>\n<p>106 rows \u00d7 2 columns</p>\n</div>",
                        "text/plain": "          City           Neighbourhood\n1    Amsterdam          Admiralenbuurt\n2    Amsterdam              Amsteldorp\n3    Amsterdam      Amsterdam Oud-West\n4    Amsterdam      Amsterdam Oud-Zuid\n5    Amsterdam  Amsterdam Science Park\n..         ...                     ...\n102  Amsterdam             Westerpark \n103  Amsterdam            Willemspark \n104  Amsterdam         Zeeburgereiland\n105  Amsterdam          Zeeheldenbuurt\n106  Amsterdam                  Zuidas\n\n[106 rows x 2 columns]"
                    },
                    "execution_count": 9,
                    "metadata": {},
                    "output_type": "execute_result"
                }
            ],
            "source": "#df1['Neighbourhood'] = df1['Neighbourhood'].str.replace('\\(Amsterdam\\)','')\n#df1['Neighbourhood'] = df1['Neighbourhood'].str.replace('\\(neighbourhood\\)','')\ndf1['Neighbourhood'] = df1['Neighbourhood'].str.split('\\(').str[0]\ndf1"
        },
        {
            "cell_type": "code",
            "execution_count": 10,
            "metadata": {},
            "outputs": [
                {
                    "data": {
                        "text/plain": "0"
                    },
                    "execution_count": 10,
                    "metadata": {},
                    "output_type": "execute_result"
                }
            ],
            "source": "df1.loc[df1.Neighbourhood.str.contains('\\('), 'Neighbourhood'].count()"
        },
        {
            "cell_type": "code",
            "execution_count": 11,
            "metadata": {},
            "outputs": [
                {
                    "name": "stderr",
                    "output_type": "stream",
                    "text": "/opt/conda/envs/Python-3.7-main/lib/python3.7/site-packages/ipykernel/__main__.py:1: SettingWithCopyWarning: \nA value is trying to be set on a copy of a slice from a DataFrame.\nTry using .loc[row_indexer,col_indexer] = value instead\n\nSee the caveats in the documentation: https://pandas.pydata.org/pandas-docs/stable/user_guide/indexing.html#returning-a-view-versus-a-copy\n  if __name__ == '__main__':\n"
                },
                {
                    "data": {
                        "text/html": "<div>\n<style scoped>\n    .dataframe tbody tr th:only-of-type {\n        vertical-align: middle;\n    }\n\n    .dataframe tbody tr th {\n        vertical-align: top;\n    }\n\n    .dataframe thead th {\n        text-align: right;\n    }\n</style>\n<table border=\"1\" class=\"dataframe\">\n  <thead>\n    <tr style=\"text-align: right;\">\n      <th></th>\n      <th>City</th>\n      <th>Neighbourhood</th>\n      <th>address</th>\n    </tr>\n  </thead>\n  <tbody>\n    <tr>\n      <th>1</th>\n      <td>Amsterdam</td>\n      <td>Admiralenbuurt</td>\n      <td>Admiralenbuurt, Amsterdam</td>\n    </tr>\n    <tr>\n      <th>2</th>\n      <td>Amsterdam</td>\n      <td>Amsteldorp</td>\n      <td>Amsteldorp, Amsterdam</td>\n    </tr>\n    <tr>\n      <th>3</th>\n      <td>Amsterdam</td>\n      <td>Amsterdam Oud-West</td>\n      <td>Amsterdam Oud-West, Amsterdam</td>\n    </tr>\n    <tr>\n      <th>4</th>\n      <td>Amsterdam</td>\n      <td>Amsterdam Oud-Zuid</td>\n      <td>Amsterdam Oud-Zuid, Amsterdam</td>\n    </tr>\n    <tr>\n      <th>5</th>\n      <td>Amsterdam</td>\n      <td>Amsterdam Science Park</td>\n      <td>Amsterdam Science Park, Amsterdam</td>\n    </tr>\n    <tr>\n      <th>...</th>\n      <td>...</td>\n      <td>...</td>\n      <td>...</td>\n    </tr>\n    <tr>\n      <th>102</th>\n      <td>Amsterdam</td>\n      <td>Westerpark</td>\n      <td>Westerpark , Amsterdam</td>\n    </tr>\n    <tr>\n      <th>103</th>\n      <td>Amsterdam</td>\n      <td>Willemspark</td>\n      <td>Willemspark , Amsterdam</td>\n    </tr>\n    <tr>\n      <th>104</th>\n      <td>Amsterdam</td>\n      <td>Zeeburgereiland</td>\n      <td>Zeeburgereiland, Amsterdam</td>\n    </tr>\n    <tr>\n      <th>105</th>\n      <td>Amsterdam</td>\n      <td>Zeeheldenbuurt</td>\n      <td>Zeeheldenbuurt, Amsterdam</td>\n    </tr>\n    <tr>\n      <th>106</th>\n      <td>Amsterdam</td>\n      <td>Zuidas</td>\n      <td>Zuidas, Amsterdam</td>\n    </tr>\n  </tbody>\n</table>\n<p>106 rows \u00d7 3 columns</p>\n</div>",
                        "text/plain": "          City           Neighbourhood                            address\n1    Amsterdam          Admiralenbuurt          Admiralenbuurt, Amsterdam\n2    Amsterdam              Amsteldorp              Amsteldorp, Amsterdam\n3    Amsterdam      Amsterdam Oud-West      Amsterdam Oud-West, Amsterdam\n4    Amsterdam      Amsterdam Oud-Zuid      Amsterdam Oud-Zuid, Amsterdam\n5    Amsterdam  Amsterdam Science Park  Amsterdam Science Park, Amsterdam\n..         ...                     ...                                ...\n102  Amsterdam             Westerpark              Westerpark , Amsterdam\n103  Amsterdam            Willemspark             Willemspark , Amsterdam\n104  Amsterdam         Zeeburgereiland         Zeeburgereiland, Amsterdam\n105  Amsterdam          Zeeheldenbuurt          Zeeheldenbuurt, Amsterdam\n106  Amsterdam                  Zuidas                  Zuidas, Amsterdam\n\n[106 rows x 3 columns]"
                    },
                    "execution_count": 11,
                    "metadata": {},
                    "output_type": "execute_result"
                }
            ],
            "source": "df1[\"address\"] = df1[\"Neighbourhood\"] + ', ' +  df1[\"City\"]\ndf1"
        },
        {
            "cell_type": "code",
            "execution_count": 12,
            "metadata": {},
            "outputs": [
                {
                    "data": {
                        "text/html": "<div>\n<style scoped>\n    .dataframe tbody tr th:only-of-type {\n        vertical-align: middle;\n    }\n\n    .dataframe tbody tr th {\n        vertical-align: top;\n    }\n\n    .dataframe thead th {\n        text-align: right;\n    }\n</style>\n<table border=\"1\" class=\"dataframe\">\n  <thead>\n    <tr style=\"text-align: right;\">\n      <th></th>\n      <th>City</th>\n      <th>Neighbourhood</th>\n      <th>address</th>\n    </tr>\n  </thead>\n  <tbody>\n    <tr>\n      <th>1</th>\n      <td>Amsterdam</td>\n      <td>Admiralenbuurt</td>\n      <td>Admiralenbuurt, Amsterdam</td>\n    </tr>\n    <tr>\n      <th>2</th>\n      <td>Amsterdam</td>\n      <td>Amsteldorp</td>\n      <td>Amsteldorp, Amsterdam</td>\n    </tr>\n    <tr>\n      <th>3</th>\n      <td>Amsterdam</td>\n      <td>Amsterdam Oud-West</td>\n      <td>Amsterdam Oud-West, Amsterdam</td>\n    </tr>\n    <tr>\n      <th>4</th>\n      <td>Amsterdam</td>\n      <td>Amsterdam Oud-Zuid</td>\n      <td>Amsterdam Oud-Zuid, Amsterdam</td>\n    </tr>\n    <tr>\n      <th>5</th>\n      <td>Amsterdam</td>\n      <td>Amsterdam Science Park</td>\n      <td>Amsterdam Science Park, Amsterdam</td>\n    </tr>\n    <tr>\n      <th>...</th>\n      <td>...</td>\n      <td>...</td>\n      <td>...</td>\n    </tr>\n    <tr>\n      <th>102</th>\n      <td>Amsterdam</td>\n      <td>Westerpark</td>\n      <td>Westerpark , Amsterdam</td>\n    </tr>\n    <tr>\n      <th>103</th>\n      <td>Amsterdam</td>\n      <td>Willemspark</td>\n      <td>Willemspark , Amsterdam</td>\n    </tr>\n    <tr>\n      <th>104</th>\n      <td>Amsterdam</td>\n      <td>Zeeburgereiland</td>\n      <td>Zeeburgereiland, Amsterdam</td>\n    </tr>\n    <tr>\n      <th>105</th>\n      <td>Amsterdam</td>\n      <td>Zeeheldenbuurt</td>\n      <td>Zeeheldenbuurt, Amsterdam</td>\n    </tr>\n    <tr>\n      <th>106</th>\n      <td>Amsterdam</td>\n      <td>Zuidas</td>\n      <td>Zuidas, Amsterdam</td>\n    </tr>\n  </tbody>\n</table>\n<p>106 rows \u00d7 3 columns</p>\n</div>",
                        "text/plain": "          City           Neighbourhood                            address\n1    Amsterdam          Admiralenbuurt          Admiralenbuurt, Amsterdam\n2    Amsterdam              Amsteldorp              Amsteldorp, Amsterdam\n3    Amsterdam      Amsterdam Oud-West      Amsterdam Oud-West, Amsterdam\n4    Amsterdam      Amsterdam Oud-Zuid      Amsterdam Oud-Zuid, Amsterdam\n5    Amsterdam  Amsterdam Science Park  Amsterdam Science Park, Amsterdam\n..         ...                     ...                                ...\n102  Amsterdam             Westerpark              Westerpark , Amsterdam\n103  Amsterdam            Willemspark             Willemspark , Amsterdam\n104  Amsterdam         Zeeburgereiland         Zeeburgereiland, Amsterdam\n105  Amsterdam          Zeeheldenbuurt          Zeeheldenbuurt, Amsterdam\n106  Amsterdam                  Zuidas                  Zuidas, Amsterdam\n\n[106 rows x 3 columns]"
                    },
                    "execution_count": 12,
                    "metadata": {},
                    "output_type": "execute_result"
                }
            ],
            "source": "#df2 = df1[df1.Neighbourhood == 'Zuidas']\ndf2 = df1.copy()\ndf2"
        },
        {
            "cell_type": "code",
            "execution_count": 57,
            "metadata": {},
            "outputs": [
                {
                    "name": "stdout",
                    "output_type": "stream",
                    "text": "The geograpical coordinate of New York City are 52.3443384, 4.9220313.\n"
                }
            ],
            "source": "address = 'Amsteldorp, Amsterdam'\n\ngeolocator = Nominatim(user_agent=\"toronto_explorer\")\nlocation = geolocator.geocode(address)\nlatitude = location.latitude\nlongitude = location.longitude\nprint('The geograpical coordinate of New York City are {}, {}.'.format(latitude, longitude))"
        },
        {
            "cell_type": "code",
            "execution_count": 14,
            "metadata": {},
            "outputs": [
                {
                    "data": {
                        "text/html": "<div>\n<style scoped>\n    .dataframe tbody tr th:only-of-type {\n        vertical-align: middle;\n    }\n\n    .dataframe tbody tr th {\n        vertical-align: top;\n    }\n\n    .dataframe thead th {\n        text-align: right;\n    }\n</style>\n<table border=\"1\" class=\"dataframe\">\n  <thead>\n    <tr style=\"text-align: right;\">\n      <th></th>\n      <th>City</th>\n      <th>Neighbourhood</th>\n      <th>address</th>\n      <th>location</th>\n      <th>point</th>\n    </tr>\n  </thead>\n  <tbody>\n    <tr>\n      <th>1</th>\n      <td>Amsterdam</td>\n      <td>Admiralenbuurt</td>\n      <td>Admiralenbuurt, Amsterdam</td>\n      <td>None</td>\n      <td>None</td>\n    </tr>\n    <tr>\n      <th>2</th>\n      <td>Amsterdam</td>\n      <td>Amsteldorp</td>\n      <td>Amsteldorp, Amsterdam</td>\n      <td>(Huisarts Amsteldorp, Middelhoffstraat, Franke...</td>\n      <td>(52.3443384, 4.9220313, 0.0)</td>\n    </tr>\n    <tr>\n      <th>3</th>\n      <td>Amsterdam</td>\n      <td>Amsterdam Oud-West</td>\n      <td>Amsterdam Oud-West, Amsterdam</td>\n      <td>(HEMA Amsterdam-Kinkerstraat, 313, Kinkerstraa...</td>\n      <td>(52.3647387, 4.8630105, 0.0)</td>\n    </tr>\n    <tr>\n      <th>4</th>\n      <td>Amsterdam</td>\n      <td>Amsterdam Oud-Zuid</td>\n      <td>Amsterdam Oud-Zuid, Amsterdam</td>\n      <td>(Amsterdam-Oud Zuid, Ringweg-Zuid, Zuidas, Zui...</td>\n      <td>(52.3391253, 4.8661853, 0.0)</td>\n    </tr>\n    <tr>\n      <th>5</th>\n      <td>Amsterdam</td>\n      <td>Amsterdam Science Park</td>\n      <td>Amsterdam Science Park, Amsterdam</td>\n      <td>(Amsterdam Science Park, Kruislaan, Watergraaf...</td>\n      <td>(52.352926, 4.948315, 0.0)</td>\n    </tr>\n    <tr>\n      <th>...</th>\n      <td>...</td>\n      <td>...</td>\n      <td>...</td>\n      <td>...</td>\n      <td>...</td>\n    </tr>\n    <tr>\n      <th>102</th>\n      <td>Amsterdam</td>\n      <td>Westerpark</td>\n      <td>Westerpark , Amsterdam</td>\n      <td>(Westerpark, West, Amsterdam, Noord-Holland, N...</td>\n      <td>(52.387236349999995, 4.871777328438663, 0.0)</td>\n    </tr>\n    <tr>\n      <th>103</th>\n      <td>Amsterdam</td>\n      <td>Willemspark</td>\n      <td>Willemspark , Amsterdam</td>\n      <td>(Caf\u00e9 Willemspark, 223, Willemsparkweg, Museum...</td>\n      <td>(52.3552537, 4.8683772, 0.0)</td>\n    </tr>\n    <tr>\n      <th>104</th>\n      <td>Amsterdam</td>\n      <td>Zeeburgereiland</td>\n      <td>Zeeburgereiland, Amsterdam</td>\n      <td>(Zeeburgereiland, Schellingwoude, Amsterdam, N...</td>\n      <td>(52.372608299999996, 4.965545531374505, 0.0)</td>\n    </tr>\n    <tr>\n      <th>105</th>\n      <td>Amsterdam</td>\n      <td>Zeeheldenbuurt</td>\n      <td>Zeeheldenbuurt, Amsterdam</td>\n      <td>(Zeeheldenbuurt, Amsterdam, Noord-Holland, Ned...</td>\n      <td>(52.389329849999996, 4.888242227776295, 0.0)</td>\n    </tr>\n    <tr>\n      <th>106</th>\n      <td>Amsterdam</td>\n      <td>Zuidas</td>\n      <td>Zuidas, Amsterdam</td>\n      <td>(Zuidas, Zuid, Amsterdam, Noord-Holland, Neder...</td>\n      <td>(52.3377797, 4.8734447, 0.0)</td>\n    </tr>\n  </tbody>\n</table>\n<p>106 rows \u00d7 5 columns</p>\n</div>",
                        "text/plain": "          City           Neighbourhood                            address  \\\n1    Amsterdam          Admiralenbuurt          Admiralenbuurt, Amsterdam   \n2    Amsterdam              Amsteldorp              Amsteldorp, Amsterdam   \n3    Amsterdam      Amsterdam Oud-West      Amsterdam Oud-West, Amsterdam   \n4    Amsterdam      Amsterdam Oud-Zuid      Amsterdam Oud-Zuid, Amsterdam   \n5    Amsterdam  Amsterdam Science Park  Amsterdam Science Park, Amsterdam   \n..         ...                     ...                                ...   \n102  Amsterdam             Westerpark              Westerpark , Amsterdam   \n103  Amsterdam            Willemspark             Willemspark , Amsterdam   \n104  Amsterdam         Zeeburgereiland         Zeeburgereiland, Amsterdam   \n105  Amsterdam          Zeeheldenbuurt          Zeeheldenbuurt, Amsterdam   \n106  Amsterdam                  Zuidas                  Zuidas, Amsterdam   \n\n                                              location  \\\n1                                                 None   \n2    (Huisarts Amsteldorp, Middelhoffstraat, Franke...   \n3    (HEMA Amsterdam-Kinkerstraat, 313, Kinkerstraa...   \n4    (Amsterdam-Oud Zuid, Ringweg-Zuid, Zuidas, Zui...   \n5    (Amsterdam Science Park, Kruislaan, Watergraaf...   \n..                                                 ...   \n102  (Westerpark, West, Amsterdam, Noord-Holland, N...   \n103  (Caf\u00e9 Willemspark, 223, Willemsparkweg, Museum...   \n104  (Zeeburgereiland, Schellingwoude, Amsterdam, N...   \n105  (Zeeheldenbuurt, Amsterdam, Noord-Holland, Ned...   \n106  (Zuidas, Zuid, Amsterdam, Noord-Holland, Neder...   \n\n                                            point  \n1                                            None  \n2                    (52.3443384, 4.9220313, 0.0)  \n3                    (52.3647387, 4.8630105, 0.0)  \n4                    (52.3391253, 4.8661853, 0.0)  \n5                      (52.352926, 4.948315, 0.0)  \n..                                            ...  \n102  (52.387236349999995, 4.871777328438663, 0.0)  \n103                  (52.3552537, 4.8683772, 0.0)  \n104  (52.372608299999996, 4.965545531374505, 0.0)  \n105  (52.389329849999996, 4.888242227776295, 0.0)  \n106                  (52.3377797, 4.8734447, 0.0)  \n\n[106 rows x 5 columns]"
                    },
                    "execution_count": 14,
                    "metadata": {},
                    "output_type": "execute_result"
                }
            ],
            "source": "#!pip install geopandas\n#!pip install geopy\nfrom geopy.extra.rate_limiter import RateLimiter\n\nlocator = Nominatim(user_agent=\"neighbourhoud_explorer\")\n\n# 1 - convenient function to delay between geocoding calls\ngeocode = RateLimiter(locator.geocode, min_delay_seconds=1)\n\n# 2- - create location column\ndf2['location'] = df2['address'].apply(geocode)\n\n# 3 - create longitude, latitude and altitude from location column (returns tuple)\ndf2['point'] = df2['location'].apply(lambda loc: tuple(loc.point) if loc else None)\n\n# 4 - split point column into latitude, longitude and altitude columns\n#df2[['latitude', 'longitude', 'altitude']] = pd.DataFrame(df2['point'].tolist(), index=df2.index)\n\ndf2"
        },
        {
            "cell_type": "code",
            "execution_count": 51,
            "metadata": {},
            "outputs": [
                {
                    "name": "stdout",
                    "output_type": "stream",
                    "text": "City             15\nNeighbourhood    15\naddress          15\nlocation          0\npoint             0\ndtype: int64\n"
                },
                {
                    "data": {
                        "text/html": "<div>\n<style scoped>\n    .dataframe tbody tr th:only-of-type {\n        vertical-align: middle;\n    }\n\n    .dataframe tbody tr th {\n        vertical-align: top;\n    }\n\n    .dataframe thead th {\n        text-align: right;\n    }\n</style>\n<table border=\"1\" class=\"dataframe\">\n  <thead>\n    <tr style=\"text-align: right;\">\n      <th></th>\n      <th>City</th>\n      <th>Neighbourhood</th>\n      <th>address</th>\n      <th>location</th>\n      <th>point</th>\n    </tr>\n  </thead>\n  <tbody>\n    <tr>\n      <th>1</th>\n      <td>Amsterdam</td>\n      <td>Admiralenbuurt</td>\n      <td>Admiralenbuurt, Amsterdam</td>\n      <td>None</td>\n      <td>None</td>\n    </tr>\n    <tr>\n      <th>17</th>\n      <td>Amsterdam</td>\n      <td>Chass\u00e9buurt</td>\n      <td>Chass\u00e9buurt, Amsterdam</td>\n      <td>None</td>\n      <td>None</td>\n    </tr>\n    <tr>\n      <th>35</th>\n      <td>Amsterdam</td>\n      <td>Hoofddorppleinbuurt</td>\n      <td>Hoofddorppleinbuurt, Amsterdam</td>\n      <td>None</td>\n      <td>None</td>\n    </tr>\n    <tr>\n      <th>40</th>\n      <td>Amsterdam</td>\n      <td>Jodenbuurt</td>\n      <td>Jodenbuurt, Amsterdam</td>\n      <td>None</td>\n      <td>None</td>\n    </tr>\n    <tr>\n      <th>46</th>\n      <td>Amsterdam</td>\n      <td>Kolenkit District</td>\n      <td>Kolenkit District, Amsterdam</td>\n      <td>None</td>\n      <td>None</td>\n    </tr>\n    <tr>\n      <th>50</th>\n      <td>Amsterdam</td>\n      <td>Middelveldsche Akerpolder</td>\n      <td>Middelveldsche Akerpolder, Amsterdam</td>\n      <td>None</td>\n      <td>None</td>\n    </tr>\n    <tr>\n      <th>58</th>\n      <td>Amsterdam</td>\n      <td>Nieuwendammerdijk en Buiksloterdijk</td>\n      <td>Nieuwendammerdijk en Buiksloterdijk, Amsterdam</td>\n      <td>None</td>\n      <td>None</td>\n    </tr>\n    <tr>\n      <th>72</th>\n      <td>Amsterdam</td>\n      <td>Overtoombuurt</td>\n      <td>Overtoombuurt, Amsterdam</td>\n      <td>None</td>\n      <td>None</td>\n    </tr>\n    <tr>\n      <th>75</th>\n      <td>Amsterdam</td>\n      <td>Prinses Irenebuurt</td>\n      <td>Prinses Irenebuurt, Amsterdam</td>\n      <td>None</td>\n      <td>None</td>\n    </tr>\n    <tr>\n      <th>78</th>\n      <td>Amsterdam</td>\n      <td>Rieteilanden</td>\n      <td>Rieteilanden, Amsterdam</td>\n      <td>None</td>\n      <td>None</td>\n    </tr>\n    <tr>\n      <th>91</th>\n      <td>Amsterdam</td>\n      <td>Trompbuurt</td>\n      <td>Trompbuurt, Amsterdam</td>\n      <td>None</td>\n      <td>None</td>\n    </tr>\n    <tr>\n      <th>97</th>\n      <td>Amsterdam</td>\n      <td>Waterwijk</td>\n      <td>Waterwijk, Amsterdam</td>\n      <td>None</td>\n      <td>None</td>\n    </tr>\n    <tr>\n      <th>99</th>\n      <td>Amsterdam</td>\n      <td>Westelijk Havengebied</td>\n      <td>Westelijk Havengebied, Amsterdam</td>\n      <td>None</td>\n      <td>None</td>\n    </tr>\n    <tr>\n      <th>100</th>\n      <td>Amsterdam</td>\n      <td>Westelijke Eilanden</td>\n      <td>Westelijke Eilanden , Amsterdam</td>\n      <td>None</td>\n      <td>None</td>\n    </tr>\n    <tr>\n      <th>101</th>\n      <td>Amsterdam</td>\n      <td>Westelijke Tuinsteden</td>\n      <td>Westelijke Tuinsteden, Amsterdam</td>\n      <td>None</td>\n      <td>None</td>\n    </tr>\n  </tbody>\n</table>\n</div>",
                        "text/plain": "          City                        Neighbourhood  \\\n1    Amsterdam                       Admiralenbuurt   \n17   Amsterdam                          Chass\u00e9buurt   \n35   Amsterdam                  Hoofddorppleinbuurt   \n40   Amsterdam                           Jodenbuurt   \n46   Amsterdam                    Kolenkit District   \n50   Amsterdam            Middelveldsche Akerpolder   \n58   Amsterdam  Nieuwendammerdijk en Buiksloterdijk   \n72   Amsterdam                        Overtoombuurt   \n75   Amsterdam                   Prinses Irenebuurt   \n78   Amsterdam                         Rieteilanden   \n91   Amsterdam                           Trompbuurt   \n97   Amsterdam                            Waterwijk   \n99   Amsterdam                Westelijk Havengebied   \n100  Amsterdam                 Westelijke Eilanden    \n101  Amsterdam                Westelijke Tuinsteden   \n\n                                            address location point  \n1                         Admiralenbuurt, Amsterdam     None  None  \n17                           Chass\u00e9buurt, Amsterdam     None  None  \n35                   Hoofddorppleinbuurt, Amsterdam     None  None  \n40                            Jodenbuurt, Amsterdam     None  None  \n46                     Kolenkit District, Amsterdam     None  None  \n50             Middelveldsche Akerpolder, Amsterdam     None  None  \n58   Nieuwendammerdijk en Buiksloterdijk, Amsterdam     None  None  \n72                         Overtoombuurt, Amsterdam     None  None  \n75                    Prinses Irenebuurt, Amsterdam     None  None  \n78                          Rieteilanden, Amsterdam     None  None  \n91                            Trompbuurt, Amsterdam     None  None  \n97                             Waterwijk, Amsterdam     None  None  \n99                 Westelijk Havengebied, Amsterdam     None  None  \n100                 Westelijke Eilanden , Amsterdam     None  None  \n101                Westelijke Tuinsteden, Amsterdam     None  None  "
                    },
                    "execution_count": 51,
                    "metadata": {},
                    "output_type": "execute_result"
                }
            ],
            "source": "print(df2.loc[df2[\"location\"].isnull()].count())\n\ndf2.loc[df2[\"location\"].isnull()]\n\n\n"
        },
        {
            "cell_type": "code",
            "execution_count": 61,
            "metadata": {},
            "outputs": [
                {
                    "data": {
                        "text/html": "<div>\n<style scoped>\n    .dataframe tbody tr th:only-of-type {\n        vertical-align: middle;\n    }\n\n    .dataframe tbody tr th {\n        vertical-align: top;\n    }\n\n    .dataframe thead th {\n        text-align: right;\n    }\n</style>\n<table border=\"1\" class=\"dataframe\">\n  <thead>\n    <tr style=\"text-align: right;\">\n      <th></th>\n      <th>City</th>\n      <th>Neighbourhood</th>\n      <th>address</th>\n      <th>location</th>\n      <th>point</th>\n    </tr>\n  </thead>\n  <tbody>\n    <tr>\n      <th>0</th>\n      <td>Amsterdam</td>\n      <td>Amsteldorp</td>\n      <td>Amsteldorp, Amsterdam</td>\n      <td>(Huisarts Amsteldorp, Middelhoffstraat, Franke...</td>\n      <td>(52.3443384, 4.9220313, 0.0)</td>\n    </tr>\n    <tr>\n      <th>1</th>\n      <td>Amsterdam</td>\n      <td>Amsterdam Oud-West</td>\n      <td>Amsterdam Oud-West, Amsterdam</td>\n      <td>(HEMA Amsterdam-Kinkerstraat, 313, Kinkerstraa...</td>\n      <td>(52.3647387, 4.8630105, 0.0)</td>\n    </tr>\n    <tr>\n      <th>2</th>\n      <td>Amsterdam</td>\n      <td>Amsterdam Oud-Zuid</td>\n      <td>Amsterdam Oud-Zuid, Amsterdam</td>\n      <td>(Amsterdam-Oud Zuid, Ringweg-Zuid, Zuidas, Zui...</td>\n      <td>(52.3391253, 4.8661853, 0.0)</td>\n    </tr>\n    <tr>\n      <th>3</th>\n      <td>Amsterdam</td>\n      <td>Amsterdam Science Park</td>\n      <td>Amsterdam Science Park, Amsterdam</td>\n      <td>(Amsterdam Science Park, Kruislaan, Watergraaf...</td>\n      <td>(52.352926, 4.948315, 0.0)</td>\n    </tr>\n    <tr>\n      <th>4</th>\n      <td>Amsterdam</td>\n      <td>Apollobuurt</td>\n      <td>Apollobuurt, Amsterdam</td>\n      <td>(Apollobuurt, Zuid, Amsterdam, Noord-Holland, ...</td>\n      <td>(52.348072599999995, 4.875559011765657, 0.0)</td>\n    </tr>\n    <tr>\n      <th>...</th>\n      <td>...</td>\n      <td>...</td>\n      <td>...</td>\n      <td>...</td>\n      <td>...</td>\n    </tr>\n    <tr>\n      <th>86</th>\n      <td>Amsterdam</td>\n      <td>Westerpark</td>\n      <td>Westerpark , Amsterdam</td>\n      <td>(Westerpark, West, Amsterdam, Noord-Holland, N...</td>\n      <td>(52.387236349999995, 4.871777328438663, 0.0)</td>\n    </tr>\n    <tr>\n      <th>87</th>\n      <td>Amsterdam</td>\n      <td>Willemspark</td>\n      <td>Willemspark , Amsterdam</td>\n      <td>(Caf\u00e9 Willemspark, 223, Willemsparkweg, Museum...</td>\n      <td>(52.3552537, 4.8683772, 0.0)</td>\n    </tr>\n    <tr>\n      <th>88</th>\n      <td>Amsterdam</td>\n      <td>Zeeburgereiland</td>\n      <td>Zeeburgereiland, Amsterdam</td>\n      <td>(Zeeburgereiland, Schellingwoude, Amsterdam, N...</td>\n      <td>(52.372608299999996, 4.965545531374505, 0.0)</td>\n    </tr>\n    <tr>\n      <th>89</th>\n      <td>Amsterdam</td>\n      <td>Zeeheldenbuurt</td>\n      <td>Zeeheldenbuurt, Amsterdam</td>\n      <td>(Zeeheldenbuurt, Amsterdam, Noord-Holland, Ned...</td>\n      <td>(52.389329849999996, 4.888242227776295, 0.0)</td>\n    </tr>\n    <tr>\n      <th>90</th>\n      <td>Amsterdam</td>\n      <td>Zuidas</td>\n      <td>Zuidas, Amsterdam</td>\n      <td>(Zuidas, Zuid, Amsterdam, Noord-Holland, Neder...</td>\n      <td>(52.3377797, 4.8734447, 0.0)</td>\n    </tr>\n  </tbody>\n</table>\n<p>91 rows \u00d7 5 columns</p>\n</div>",
                        "text/plain": "         City           Neighbourhood                            address  \\\n0   Amsterdam              Amsteldorp              Amsteldorp, Amsterdam   \n1   Amsterdam      Amsterdam Oud-West      Amsterdam Oud-West, Amsterdam   \n2   Amsterdam      Amsterdam Oud-Zuid      Amsterdam Oud-Zuid, Amsterdam   \n3   Amsterdam  Amsterdam Science Park  Amsterdam Science Park, Amsterdam   \n4   Amsterdam             Apollobuurt             Apollobuurt, Amsterdam   \n..        ...                     ...                                ...   \n86  Amsterdam             Westerpark              Westerpark , Amsterdam   \n87  Amsterdam            Willemspark             Willemspark , Amsterdam   \n88  Amsterdam         Zeeburgereiland         Zeeburgereiland, Amsterdam   \n89  Amsterdam          Zeeheldenbuurt          Zeeheldenbuurt, Amsterdam   \n90  Amsterdam                  Zuidas                  Zuidas, Amsterdam   \n\n                                             location  \\\n0   (Huisarts Amsteldorp, Middelhoffstraat, Franke...   \n1   (HEMA Amsterdam-Kinkerstraat, 313, Kinkerstraa...   \n2   (Amsterdam-Oud Zuid, Ringweg-Zuid, Zuidas, Zui...   \n3   (Amsterdam Science Park, Kruislaan, Watergraaf...   \n4   (Apollobuurt, Zuid, Amsterdam, Noord-Holland, ...   \n..                                                ...   \n86  (Westerpark, West, Amsterdam, Noord-Holland, N...   \n87  (Caf\u00e9 Willemspark, 223, Willemsparkweg, Museum...   \n88  (Zeeburgereiland, Schellingwoude, Amsterdam, N...   \n89  (Zeeheldenbuurt, Amsterdam, Noord-Holland, Ned...   \n90  (Zuidas, Zuid, Amsterdam, Noord-Holland, Neder...   \n\n                                           point  \n0                   (52.3443384, 4.9220313, 0.0)  \n1                   (52.3647387, 4.8630105, 0.0)  \n2                   (52.3391253, 4.8661853, 0.0)  \n3                     (52.352926, 4.948315, 0.0)  \n4   (52.348072599999995, 4.875559011765657, 0.0)  \n..                                           ...  \n86  (52.387236349999995, 4.871777328438663, 0.0)  \n87                  (52.3552537, 4.8683772, 0.0)  \n88  (52.372608299999996, 4.965545531374505, 0.0)  \n89  (52.389329849999996, 4.888242227776295, 0.0)  \n90                  (52.3377797, 4.8734447, 0.0)  \n\n[91 rows x 5 columns]"
                    },
                    "execution_count": 61,
                    "metadata": {},
                    "output_type": "execute_result"
                }
            ],
            "source": "df2.dropna(inplace=True)\ndf2.reset_index(drop=True, inplace=True)\ndf2"
        },
        {
            "cell_type": "code",
            "execution_count": 62,
            "metadata": {},
            "outputs": [
                {
                    "data": {
                        "text/plain": "(91, 5)"
                    },
                    "execution_count": 62,
                    "metadata": {},
                    "output_type": "execute_result"
                }
            ],
            "source": "df2.shape"
        },
        {
            "cell_type": "code",
            "execution_count": 64,
            "metadata": {},
            "outputs": [
                {
                    "data": {
                        "text/html": "<div>\n<style scoped>\n    .dataframe tbody tr th:only-of-type {\n        vertical-align: middle;\n    }\n\n    .dataframe tbody tr th {\n        vertical-align: top;\n    }\n\n    .dataframe thead th {\n        text-align: right;\n    }\n</style>\n<table border=\"1\" class=\"dataframe\">\n  <thead>\n    <tr style=\"text-align: right;\">\n      <th></th>\n      <th>City</th>\n      <th>Neighbourhood</th>\n      <th>address</th>\n      <th>location</th>\n      <th>point</th>\n      <th>latitude</th>\n      <th>longitude</th>\n      <th>altitude</th>\n    </tr>\n  </thead>\n  <tbody>\n    <tr>\n      <th>0</th>\n      <td>Amsterdam</td>\n      <td>Amsteldorp</td>\n      <td>Amsteldorp, Amsterdam</td>\n      <td>(Huisarts Amsteldorp, Middelhoffstraat, Franke...</td>\n      <td>(52.3443384, 4.9220313, 0.0)</td>\n      <td>52.344338</td>\n      <td>4.922031</td>\n      <td>0.0</td>\n    </tr>\n    <tr>\n      <th>1</th>\n      <td>Amsterdam</td>\n      <td>Amsterdam Oud-West</td>\n      <td>Amsterdam Oud-West, Amsterdam</td>\n      <td>(HEMA Amsterdam-Kinkerstraat, 313, Kinkerstraa...</td>\n      <td>(52.3647387, 4.8630105, 0.0)</td>\n      <td>52.364739</td>\n      <td>4.863010</td>\n      <td>0.0</td>\n    </tr>\n    <tr>\n      <th>2</th>\n      <td>Amsterdam</td>\n      <td>Amsterdam Oud-Zuid</td>\n      <td>Amsterdam Oud-Zuid, Amsterdam</td>\n      <td>(Amsterdam-Oud Zuid, Ringweg-Zuid, Zuidas, Zui...</td>\n      <td>(52.3391253, 4.8661853, 0.0)</td>\n      <td>52.339125</td>\n      <td>4.866185</td>\n      <td>0.0</td>\n    </tr>\n    <tr>\n      <th>3</th>\n      <td>Amsterdam</td>\n      <td>Amsterdam Science Park</td>\n      <td>Amsterdam Science Park, Amsterdam</td>\n      <td>(Amsterdam Science Park, Kruislaan, Watergraaf...</td>\n      <td>(52.352926, 4.948315, 0.0)</td>\n      <td>52.352926</td>\n      <td>4.948315</td>\n      <td>0.0</td>\n    </tr>\n    <tr>\n      <th>4</th>\n      <td>Amsterdam</td>\n      <td>Apollobuurt</td>\n      <td>Apollobuurt, Amsterdam</td>\n      <td>(Apollobuurt, Zuid, Amsterdam, Noord-Holland, ...</td>\n      <td>(52.348072599999995, 4.875559011765657, 0.0)</td>\n      <td>52.348073</td>\n      <td>4.875559</td>\n      <td>0.0</td>\n    </tr>\n    <tr>\n      <th>...</th>\n      <td>...</td>\n      <td>...</td>\n      <td>...</td>\n      <td>...</td>\n      <td>...</td>\n      <td>...</td>\n      <td>...</td>\n      <td>...</td>\n    </tr>\n    <tr>\n      <th>86</th>\n      <td>Amsterdam</td>\n      <td>Westerpark</td>\n      <td>Westerpark , Amsterdam</td>\n      <td>(Westerpark, West, Amsterdam, Noord-Holland, N...</td>\n      <td>(52.387236349999995, 4.871777328438663, 0.0)</td>\n      <td>52.387236</td>\n      <td>4.871777</td>\n      <td>0.0</td>\n    </tr>\n    <tr>\n      <th>87</th>\n      <td>Amsterdam</td>\n      <td>Willemspark</td>\n      <td>Willemspark , Amsterdam</td>\n      <td>(Caf\u00e9 Willemspark, 223, Willemsparkweg, Museum...</td>\n      <td>(52.3552537, 4.8683772, 0.0)</td>\n      <td>52.355254</td>\n      <td>4.868377</td>\n      <td>0.0</td>\n    </tr>\n    <tr>\n      <th>88</th>\n      <td>Amsterdam</td>\n      <td>Zeeburgereiland</td>\n      <td>Zeeburgereiland, Amsterdam</td>\n      <td>(Zeeburgereiland, Schellingwoude, Amsterdam, N...</td>\n      <td>(52.372608299999996, 4.965545531374505, 0.0)</td>\n      <td>52.372608</td>\n      <td>4.965546</td>\n      <td>0.0</td>\n    </tr>\n    <tr>\n      <th>89</th>\n      <td>Amsterdam</td>\n      <td>Zeeheldenbuurt</td>\n      <td>Zeeheldenbuurt, Amsterdam</td>\n      <td>(Zeeheldenbuurt, Amsterdam, Noord-Holland, Ned...</td>\n      <td>(52.389329849999996, 4.888242227776295, 0.0)</td>\n      <td>52.389330</td>\n      <td>4.888242</td>\n      <td>0.0</td>\n    </tr>\n    <tr>\n      <th>90</th>\n      <td>Amsterdam</td>\n      <td>Zuidas</td>\n      <td>Zuidas, Amsterdam</td>\n      <td>(Zuidas, Zuid, Amsterdam, Noord-Holland, Neder...</td>\n      <td>(52.3377797, 4.8734447, 0.0)</td>\n      <td>52.337780</td>\n      <td>4.873445</td>\n      <td>0.0</td>\n    </tr>\n  </tbody>\n</table>\n<p>91 rows \u00d7 8 columns</p>\n</div>",
                        "text/plain": "         City           Neighbourhood                            address  \\\n0   Amsterdam              Amsteldorp              Amsteldorp, Amsterdam   \n1   Amsterdam      Amsterdam Oud-West      Amsterdam Oud-West, Amsterdam   \n2   Amsterdam      Amsterdam Oud-Zuid      Amsterdam Oud-Zuid, Amsterdam   \n3   Amsterdam  Amsterdam Science Park  Amsterdam Science Park, Amsterdam   \n4   Amsterdam             Apollobuurt             Apollobuurt, Amsterdam   \n..        ...                     ...                                ...   \n86  Amsterdam             Westerpark              Westerpark , Amsterdam   \n87  Amsterdam            Willemspark             Willemspark , Amsterdam   \n88  Amsterdam         Zeeburgereiland         Zeeburgereiland, Amsterdam   \n89  Amsterdam          Zeeheldenbuurt          Zeeheldenbuurt, Amsterdam   \n90  Amsterdam                  Zuidas                  Zuidas, Amsterdam   \n\n                                             location  \\\n0   (Huisarts Amsteldorp, Middelhoffstraat, Franke...   \n1   (HEMA Amsterdam-Kinkerstraat, 313, Kinkerstraa...   \n2   (Amsterdam-Oud Zuid, Ringweg-Zuid, Zuidas, Zui...   \n3   (Amsterdam Science Park, Kruislaan, Watergraaf...   \n4   (Apollobuurt, Zuid, Amsterdam, Noord-Holland, ...   \n..                                                ...   \n86  (Westerpark, West, Amsterdam, Noord-Holland, N...   \n87  (Caf\u00e9 Willemspark, 223, Willemsparkweg, Museum...   \n88  (Zeeburgereiland, Schellingwoude, Amsterdam, N...   \n89  (Zeeheldenbuurt, Amsterdam, Noord-Holland, Ned...   \n90  (Zuidas, Zuid, Amsterdam, Noord-Holland, Neder...   \n\n                                           point   latitude  longitude  \\\n0                   (52.3443384, 4.9220313, 0.0)  52.344338   4.922031   \n1                   (52.3647387, 4.8630105, 0.0)  52.364739   4.863010   \n2                   (52.3391253, 4.8661853, 0.0)  52.339125   4.866185   \n3                     (52.352926, 4.948315, 0.0)  52.352926   4.948315   \n4   (52.348072599999995, 4.875559011765657, 0.0)  52.348073   4.875559   \n..                                           ...        ...        ...   \n86  (52.387236349999995, 4.871777328438663, 0.0)  52.387236   4.871777   \n87                  (52.3552537, 4.8683772, 0.0)  52.355254   4.868377   \n88  (52.372608299999996, 4.965545531374505, 0.0)  52.372608   4.965546   \n89  (52.389329849999996, 4.888242227776295, 0.0)  52.389330   4.888242   \n90                  (52.3377797, 4.8734447, 0.0)  52.337780   4.873445   \n\n    altitude  \n0        0.0  \n1        0.0  \n2        0.0  \n3        0.0  \n4        0.0  \n..       ...  \n86       0.0  \n87       0.0  \n88       0.0  \n89       0.0  \n90       0.0  \n\n[91 rows x 8 columns]"
                    },
                    "execution_count": 64,
                    "metadata": {},
                    "output_type": "execute_result"
                }
            ],
            "source": "# 4 - split point column into latitude, longitude and altitude columns\ndf2[['latitude', 'longitude', 'altitude']] = pd.DataFrame(df2['point'].tolist(), index=df2.index)\ndf2"
        },
        {
            "cell_type": "markdown",
            "metadata": {
                "scrolled": true
            },
            "source": "## df_list = pd.read_html(html_table)\ndf = df_list[0]\ndf.rename(columns={'Postal Code':'Postcode'},inplace=True)\nprint(df.shape)\ndf"
        },
        {
            "cell_type": "code",
            "execution_count": null,
            "metadata": {},
            "outputs": [],
            "source": ""
        }
    ],
    "metadata": {
        "kernelspec": {
            "display_name": "Python 3.7",
            "language": "python",
            "name": "python3"
        },
        "language_info": {
            "codemirror_mode": {
                "name": "ipython",
                "version": 3
            },
            "file_extension": ".py",
            "mimetype": "text/x-python",
            "name": "python",
            "nbconvert_exporter": "python",
            "pygments_lexer": "ipython3",
            "version": "3.7.9"
        }
    },
    "nbformat": 4,
    "nbformat_minor": 1
}