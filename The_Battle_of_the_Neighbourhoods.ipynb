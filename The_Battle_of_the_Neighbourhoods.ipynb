{
    "cells": [
        {
            "cell_type": "markdown",
            "metadata": {
                "collapsed": true
            },
            "source": "# The Battle of the Neigbourhoods"
        },
        {
            "cell_type": "markdown",
            "metadata": {},
            "source": "In this notebook the neighbourhoods in the city of Toronto will be segmented en clustered based on the postalcode and borough information.<br><br>\nPart 1: Collecting Toronto Neighbourhood data<br>\nFor the Toronto neighbourhood data, a Wikipedia page exists that has all the information that is neccessary to explore and cluster the neighbourhoods in Toronto.<br> The required HTML table from the Wikipedia page will be used to read into a pandas dataframe.<br><br>\nPart 2: Collecting geographical coordinates of Toronto<br>\nAfter cleaning en preprocessing of the data, it will be enriched with the geographical coordinates.<br><br>\nPart 3: Clustering the neighbourhoods of Toronto<br>\nThen the venues in each neighbourhood will be collected form the FOURSQUARE website. The top 10 venues of each neighbourhoods will be determined.<br> \nThe K-means algoritm is used to cluster the neighbourhoods, which are then visualized in a map of Toronto using Folium.<br>"
        },
        {
            "cell_type": "markdown",
            "metadata": {},
            "source": "## Part 1: Collecting the Toronto neighbourhood data."
        },
        {
            "cell_type": "markdown",
            "metadata": {},
            "source": "### Importing libraries"
        },
        {
            "cell_type": "code",
            "execution_count": 1,
            "metadata": {},
            "outputs": [
                {
                    "name": "stdout",
                    "output_type": "stream",
                    "text": "Requirement already satisfied: beautifulsoup4 in /opt/conda/envs/Python-3.7-main/lib/python3.7/site-packages (4.9.1)\nRequirement already satisfied: soupsieve>1.2 in /opt/conda/envs/Python-3.7-main/lib/python3.7/site-packages (from beautifulsoup4) (2.0.1)\nRequirement already satisfied: lxml in /opt/conda/envs/Python-3.7-main/lib/python3.7/site-packages (4.5.1)\nImporting ready!\n"
                }
            ],
            "source": "!pip install beautifulsoup4\n!pip install lxml\nimport requests # library to handle requests\nimport pandas as pd # library for data analsysis\nimport numpy as np # library to handle data in a vectorized manner\n\nfrom bs4 import BeautifulSoup # Library for scraping webpage\nfrom IPython.display import display_html # Library for displaying HTML\n\n#!pip install geopy\nfrom geopy.geocoders import Nominatim # convert an address into latitude and longitude values\n\nprint('Importing ready!')"
        },
        {
            "cell_type": "markdown",
            "metadata": {},
            "source": "### Retreive neighbourhoods of Amsterdam from Wikipedia webpage"
        },
        {
            "cell_type": "code",
            "execution_count": 4,
            "metadata": {},
            "outputs": [
                {
                    "name": "stdout",
                    "output_type": "stream",
                    "text": "<title>Category:Neighbourhoods of Amsterdam - Wikipedia</title>\n"
                },
                {
                    "data": {
                        "text/plain": "[['Amsterdam', 'Template:Neighborhoods of Amsterdam'],\n ['Amsterdam', 'Admiralenbuurt'],\n ['Amsterdam', 'Amsteldorp'],\n ['Amsterdam', 'Amsterdam Oud-West'],\n ['Amsterdam', 'Amsterdam Oud-Zuid'],\n ['Amsterdam', 'Amsterdam Science Park'],\n ['Amsterdam', 'Apollobuurt'],\n ['Amsterdam', 'Betondorp'],\n ['Amsterdam', 'Bijlmermeer'],\n ['Amsterdam', 'Binnenstad (Amsterdam)'],\n ['Amsterdam', 'Bos en Lommer'],\n ['Amsterdam', 'Buiksloot'],\n ['Amsterdam', 'Buikslotermeer'],\n ['Amsterdam', 'Buitenveldert'],\n ['Amsterdam', 'Bullewijk'],\n ['Amsterdam', 'Burgwallen Nieuwe Zijde'],\n ['Amsterdam', 'Burgwallen Oude Zijde'],\n ['Amsterdam', 'Chass\u00e9buurt'],\n ['Amsterdam', 'Cruquiuseiland'],\n ['Amsterdam', 'Czaar Peterbuurt'],\n ['Amsterdam', 'Dapperbuurt'],\n ['Amsterdam', 'De Aker'],\n ['Amsterdam', 'De Pijp'],\n ['Amsterdam', 'De Wallen'],\n ['Amsterdam', 'Diamantbuurt (Amsterdam)'],\n ['Amsterdam', 'Duivelseiland (Amsterdam)'],\n ['Amsterdam', 'Eastern Docklands'],\n ['Amsterdam', 'Eendracht (Amsterdam)'],\n ['Amsterdam', 'Floradorp'],\n ['Amsterdam', 'Frederik Hendrikbuurt'],\n ['Amsterdam', 'Gaasperdam'],\n ['Amsterdam', 'Geuzenveld'],\n ['Amsterdam', 'Gouden Reael'],\n ['Amsterdam', 'Grachtengordel'],\n ['Amsterdam', 'Haarlemmerbuurt (Amsterdam)'],\n ['Amsterdam', 'Hoofddorppleinbuurt'],\n ['Amsterdam', 'Houthaven'],\n ['Amsterdam', 'IJburg'],\n ['Amsterdam', 'Indische Buurt'],\n ['Amsterdam', 'Java-eiland'],\n ['Amsterdam', 'Jodenbuurt'],\n ['Amsterdam', 'Jordaan'],\n ['Amsterdam', 'Kadijken'],\n ['Amsterdam', 'Kadoelen'],\n ['Amsterdam', 'Kinkerbuurt'],\n ['Amsterdam', 'KNSM Island'],\n ['Amsterdam', 'Kolenkit District'],\n ['Amsterdam', 'Landelijk Noord'],\n ['Amsterdam', 'Landlust'],\n ['Amsterdam', 'Lastage'],\n ['Amsterdam', 'Middelveldsche Akerpolder'],\n ['Amsterdam', 'Molenwijk (Amsterdam)'],\n ['Amsterdam', 'Museumkwartier (Amsterdam)'],\n ['Amsterdam', 'NDSM'],\n ['Amsterdam', 'Negen Straatjes'],\n ['Amsterdam', 'Nieuw Sloten'],\n ['Amsterdam', 'Nieuwe Pijp'],\n ['Amsterdam', 'Nieuwendam'],\n ['Amsterdam', 'Nieuwendammerdijk en Buiksloterdijk'],\n ['Amsterdam', 'Olympisch Kwartier'],\n ['Amsterdam', 'Omval'],\n ['Amsterdam', 'Oostelijke Eilanden'],\n ['Amsterdam', 'Oosterdokseiland'],\n ['Amsterdam', 'Oosterparkbuurt (Amsterdam)'],\n ['Amsterdam', 'Oostoever'],\n ['Amsterdam', 'Oostpoort'],\n ['Amsterdam', 'Oostzanerwerf'],\n ['Amsterdam', 'Osdorp'],\n ['Amsterdam', 'Oud Osdorp'],\n ['Amsterdam', 'Oud-Oost'],\n ['Amsterdam', 'Oude Pijp'],\n ['Amsterdam', 'Overhoeks'],\n ['Amsterdam', 'Overtoombuurt'],\n ['Amsterdam', 'Overtoomse Veld'],\n ['Amsterdam', 'Plantage'],\n ['Amsterdam', 'Prinses Irenebuurt'],\n ['Amsterdam', 'Ransdorp'],\n ['Amsterdam', 'Rapenburg (Amsterdam)'],\n ['Amsterdam', 'Rieteilanden'],\n ['Amsterdam', 'Rivierenbuurt (Amsterdam)'],\n ['Amsterdam', 'Ruigoord'],\n ['Amsterdam', 'Schellingwoude'],\n ['Amsterdam', 'Schinkelbuurt'],\n ['Amsterdam', 'Slotermeer'],\n ['Amsterdam', 'Slotervaart (neighbourhood)'],\n ['Amsterdam', 'Spaarndammerbuurt'],\n ['Amsterdam', 'Staatsliedenbuurt (Amsterdam)'],\n ['Amsterdam', 'Stadionbuurt'],\n ['Amsterdam', 'Steigereiland'],\n ['Amsterdam', 'Teleport (Amsterdam)'],\n ['Amsterdam', 'Transvaalbuurt (Amsterdam)'],\n ['Amsterdam', 'Trompbuurt'],\n ['Amsterdam', 'Tuindorp Nieuwendam'],\n ['Amsterdam', 'Tuindorp Oostzaan'],\n ['Amsterdam', 'Uilenburg (Amsterdam)'],\n ['Amsterdam', 'Venserpolder'],\n ['Amsterdam', 'Watergraafsmeer'],\n ['Amsterdam', 'Waterwijk'],\n ['Amsterdam', 'Weesperzijde (Amsterdam)'],\n ['Amsterdam', 'Westelijk Havengebied'],\n ['Amsterdam', 'Westelijke Eilanden (Amsterdam)'],\n ['Amsterdam', 'Westelijke Tuinsteden'],\n ['Amsterdam', 'Westerpark (neighbourhood)'],\n ['Amsterdam', 'Willemspark (Amsterdam)'],\n ['Amsterdam', 'Zeeburgereiland'],\n ['Amsterdam', 'Zeeheldenbuurt'],\n ['Amsterdam', 'Zuidas']]"
                    },
                    "execution_count": 4,
                    "metadata": {},
                    "output_type": "execute_result"
                }
            ],
            "source": "# Get webpage\nsource = requests.get('https://en.wikipedia.org/wiki/Category:Neighbourhoods_of_Amsterdam').text\n# Scrape webpage\nsoup = BeautifulSoup(source,'lxml')\n# Check title of webpage\nprint(soup.title)\nlst = []\nfor item in soup.findAll('div',{'class':'mw-category-group'}):\n    sub_items = item.findAll('li')\n    for sub_item in sub_items:\n        lst.append(['Amsterdam',sub_item.text])\n        \n# Get table from webpage\n#html_table = str(bsoup.table)\n# Display table\n#display_html(html_table,raw=True)\nlst"
        },
        {
            "cell_type": "code",
            "execution_count": 5,
            "metadata": {},
            "outputs": [
                {
                    "data": {
                        "text/html": "<div>\n<style scoped>\n    .dataframe tbody tr th:only-of-type {\n        vertical-align: middle;\n    }\n\n    .dataframe tbody tr th {\n        vertical-align: top;\n    }\n\n    .dataframe thead th {\n        text-align: right;\n    }\n</style>\n<table border=\"1\" class=\"dataframe\">\n  <thead>\n    <tr style=\"text-align: right;\">\n      <th></th>\n      <th>City</th>\n      <th>Neighbourhood</th>\n    </tr>\n  </thead>\n  <tbody>\n    <tr>\n      <th>0</th>\n      <td>Amsterdam</td>\n      <td>Template:Neighborhoods of Amsterdam</td>\n    </tr>\n    <tr>\n      <th>1</th>\n      <td>Amsterdam</td>\n      <td>Admiralenbuurt</td>\n    </tr>\n    <tr>\n      <th>2</th>\n      <td>Amsterdam</td>\n      <td>Amsteldorp</td>\n    </tr>\n    <tr>\n      <th>3</th>\n      <td>Amsterdam</td>\n      <td>Amsterdam Oud-West</td>\n    </tr>\n    <tr>\n      <th>4</th>\n      <td>Amsterdam</td>\n      <td>Amsterdam Oud-Zuid</td>\n    </tr>\n    <tr>\n      <th>...</th>\n      <td>...</td>\n      <td>...</td>\n    </tr>\n    <tr>\n      <th>102</th>\n      <td>Amsterdam</td>\n      <td>Westerpark (neighbourhood)</td>\n    </tr>\n    <tr>\n      <th>103</th>\n      <td>Amsterdam</td>\n      <td>Willemspark (Amsterdam)</td>\n    </tr>\n    <tr>\n      <th>104</th>\n      <td>Amsterdam</td>\n      <td>Zeeburgereiland</td>\n    </tr>\n    <tr>\n      <th>105</th>\n      <td>Amsterdam</td>\n      <td>Zeeheldenbuurt</td>\n    </tr>\n    <tr>\n      <th>106</th>\n      <td>Amsterdam</td>\n      <td>Zuidas</td>\n    </tr>\n  </tbody>\n</table>\n<p>107 rows \u00d7 2 columns</p>\n</div>",
                        "text/plain": "          City                        Neighbourhood\n0    Amsterdam  Template:Neighborhoods of Amsterdam\n1    Amsterdam                       Admiralenbuurt\n2    Amsterdam                           Amsteldorp\n3    Amsterdam                   Amsterdam Oud-West\n4    Amsterdam                   Amsterdam Oud-Zuid\n..         ...                                  ...\n102  Amsterdam           Westerpark (neighbourhood)\n103  Amsterdam              Willemspark (Amsterdam)\n104  Amsterdam                      Zeeburgereiland\n105  Amsterdam                       Zeeheldenbuurt\n106  Amsterdam                               Zuidas\n\n[107 rows x 2 columns]"
                    },
                    "execution_count": 5,
                    "metadata": {},
                    "output_type": "execute_result"
                }
            ],
            "source": "df=pd.DataFrame(lst,columns=['City','Neighbourhood'])\ndf[\"Neighbourhood\"]  = df[\"Neighbourhood\"].str.strip()\ndf"
        },
        {
            "cell_type": "code",
            "execution_count": 51,
            "metadata": {},
            "outputs": [
                {
                    "data": {
                        "text/plain": "(107, 2)"
                    },
                    "execution_count": 51,
                    "metadata": {},
                    "output_type": "execute_result"
                }
            ],
            "source": "df.shape"
        },
        {
            "cell_type": "markdown",
            "metadata": {},
            "source": "### Cleaning en preparing dataset"
        },
        {
            "cell_type": "code",
            "execution_count": 52,
            "metadata": {},
            "outputs": [
                {
                    "data": {
                        "text/plain": "1"
                    },
                    "execution_count": 52,
                    "metadata": {},
                    "output_type": "execute_result"
                }
            ],
            "source": "df.loc[df.Neighbourhood.str.contains('Template'), 'Neighbourhood'].count() # df.loc[df.Neighbourhood == 'Not assigned', 'Neighbourhood'].count()"
        },
        {
            "cell_type": "markdown",
            "metadata": {},
            "source": "### Convert HTML table to Dataframe for preprocessing"
        },
        {
            "cell_type": "code",
            "execution_count": 66,
            "metadata": {},
            "outputs": [
                {
                    "data": {
                        "text/html": "<div>\n<style scoped>\n    .dataframe tbody tr th:only-of-type {\n        vertical-align: middle;\n    }\n\n    .dataframe tbody tr th {\n        vertical-align: top;\n    }\n\n    .dataframe thead th {\n        text-align: right;\n    }\n</style>\n<table border=\"1\" class=\"dataframe\">\n  <thead>\n    <tr style=\"text-align: right;\">\n      <th></th>\n      <th>City</th>\n      <th>Neighbourhood</th>\n    </tr>\n  </thead>\n  <tbody>\n    <tr>\n      <th>1</th>\n      <td>Amsterdam</td>\n      <td>Admiralenbuurt</td>\n    </tr>\n    <tr>\n      <th>2</th>\n      <td>Amsterdam</td>\n      <td>Amsteldorp</td>\n    </tr>\n    <tr>\n      <th>3</th>\n      <td>Amsterdam</td>\n      <td>Amsterdam Oud-West</td>\n    </tr>\n    <tr>\n      <th>4</th>\n      <td>Amsterdam</td>\n      <td>Amsterdam Oud-Zuid</td>\n    </tr>\n    <tr>\n      <th>5</th>\n      <td>Amsterdam</td>\n      <td>Amsterdam Science Park</td>\n    </tr>\n    <tr>\n      <th>...</th>\n      <td>...</td>\n      <td>...</td>\n    </tr>\n    <tr>\n      <th>102</th>\n      <td>Amsterdam</td>\n      <td>Westerpark (neighbourhood)</td>\n    </tr>\n    <tr>\n      <th>103</th>\n      <td>Amsterdam</td>\n      <td>Willemspark (Amsterdam)</td>\n    </tr>\n    <tr>\n      <th>104</th>\n      <td>Amsterdam</td>\n      <td>Zeeburgereiland</td>\n    </tr>\n    <tr>\n      <th>105</th>\n      <td>Amsterdam</td>\n      <td>Zeeheldenbuurt</td>\n    </tr>\n    <tr>\n      <th>106</th>\n      <td>Amsterdam</td>\n      <td>Zuidas</td>\n    </tr>\n  </tbody>\n</table>\n<p>106 rows \u00d7 2 columns</p>\n</div>",
                        "text/plain": "          City               Neighbourhood\n1    Amsterdam              Admiralenbuurt\n2    Amsterdam                  Amsteldorp\n3    Amsterdam          Amsterdam Oud-West\n4    Amsterdam          Amsterdam Oud-Zuid\n5    Amsterdam      Amsterdam Science Park\n..         ...                         ...\n102  Amsterdam  Westerpark (neighbourhood)\n103  Amsterdam     Willemspark (Amsterdam)\n104  Amsterdam             Zeeburgereiland\n105  Amsterdam              Zeeheldenbuurt\n106  Amsterdam                      Zuidas\n\n[106 rows x 2 columns]"
                    },
                    "execution_count": 66,
                    "metadata": {},
                    "output_type": "execute_result"
                }
            ],
            "source": "df1 = df[~df.Neighbourhood.str.contains('Template')]\ndf1"
        },
        {
            "cell_type": "code",
            "execution_count": 67,
            "metadata": {},
            "outputs": [
                {
                    "data": {
                        "text/plain": "(106, 2)"
                    },
                    "execution_count": 67,
                    "metadata": {},
                    "output_type": "execute_result"
                }
            ],
            "source": "df1.shape"
        },
        {
            "cell_type": "code",
            "execution_count": 70,
            "metadata": {},
            "outputs": [
                {
                    "data": {
                        "text/plain": "Series([], Name: Neighbourhood, dtype: object)"
                    },
                    "execution_count": 70,
                    "metadata": {},
                    "output_type": "execute_result"
                }
            ],
            "source": "df1.loc[df1.Neighbourhood.str.contains('\\('), 'Neighbourhood']"
        },
        {
            "cell_type": "code",
            "execution_count": 69,
            "metadata": {},
            "outputs": [
                {
                    "name": "stderr",
                    "output_type": "stream",
                    "text": "/opt/conda/envs/Python-3.7-main/lib/python3.7/site-packages/ipykernel/__main__.py:1: SettingWithCopyWarning: \nA value is trying to be set on a copy of a slice from a DataFrame.\nTry using .loc[row_indexer,col_indexer] = value instead\n\nSee the caveats in the documentation: https://pandas.pydata.org/pandas-docs/stable/user_guide/indexing.html#returning-a-view-versus-a-copy\n  if __name__ == '__main__':\n"
                },
                {
                    "data": {
                        "text/html": "<div>\n<style scoped>\n    .dataframe tbody tr th:only-of-type {\n        vertical-align: middle;\n    }\n\n    .dataframe tbody tr th {\n        vertical-align: top;\n    }\n\n    .dataframe thead th {\n        text-align: right;\n    }\n</style>\n<table border=\"1\" class=\"dataframe\">\n  <thead>\n    <tr style=\"text-align: right;\">\n      <th></th>\n      <th>City</th>\n      <th>Neighbourhood</th>\n    </tr>\n  </thead>\n  <tbody>\n    <tr>\n      <th>1</th>\n      <td>Amsterdam</td>\n      <td>Admiralenbuurt</td>\n    </tr>\n    <tr>\n      <th>2</th>\n      <td>Amsterdam</td>\n      <td>Amsteldorp</td>\n    </tr>\n    <tr>\n      <th>3</th>\n      <td>Amsterdam</td>\n      <td>Amsterdam Oud-West</td>\n    </tr>\n    <tr>\n      <th>4</th>\n      <td>Amsterdam</td>\n      <td>Amsterdam Oud-Zuid</td>\n    </tr>\n    <tr>\n      <th>5</th>\n      <td>Amsterdam</td>\n      <td>Amsterdam Science Park</td>\n    </tr>\n    <tr>\n      <th>...</th>\n      <td>...</td>\n      <td>...</td>\n    </tr>\n    <tr>\n      <th>102</th>\n      <td>Amsterdam</td>\n      <td>Westerpark</td>\n    </tr>\n    <tr>\n      <th>103</th>\n      <td>Amsterdam</td>\n      <td>Willemspark</td>\n    </tr>\n    <tr>\n      <th>104</th>\n      <td>Amsterdam</td>\n      <td>Zeeburgereiland</td>\n    </tr>\n    <tr>\n      <th>105</th>\n      <td>Amsterdam</td>\n      <td>Zeeheldenbuurt</td>\n    </tr>\n    <tr>\n      <th>106</th>\n      <td>Amsterdam</td>\n      <td>Zuidas</td>\n    </tr>\n  </tbody>\n</table>\n<p>106 rows \u00d7 2 columns</p>\n</div>",
                        "text/plain": "          City           Neighbourhood\n1    Amsterdam          Admiralenbuurt\n2    Amsterdam              Amsteldorp\n3    Amsterdam      Amsterdam Oud-West\n4    Amsterdam      Amsterdam Oud-Zuid\n5    Amsterdam  Amsterdam Science Park\n..         ...                     ...\n102  Amsterdam             Westerpark \n103  Amsterdam            Willemspark \n104  Amsterdam         Zeeburgereiland\n105  Amsterdam          Zeeheldenbuurt\n106  Amsterdam                  Zuidas\n\n[106 rows x 2 columns]"
                    },
                    "execution_count": 69,
                    "metadata": {},
                    "output_type": "execute_result"
                }
            ],
            "source": "df1['Neighbourhood'] = df1['Neighbourhood'].str.split('\\(').str[0]\n#df1['Neighbourhood'] = df1['Neighbourhood'].str.replace('\\(Amsterdam\\)','')\n#df1['Neighbourhood'] = df1['Neighbourhood'].str.replace('\\(neighbourhood\\)','')\ndf1"
        },
        {
            "cell_type": "code",
            "execution_count": 35,
            "metadata": {},
            "outputs": [
                {
                    "data": {
                        "text/plain": "9               Binnenstad (Amsterdam)\n24            Diamantbuurt (Amsterdam)\n25           Duivelseiland (Amsterdam)\n27               Eendracht (Amsterdam)\n34         Haarlemmerbuurt (Amsterdam)\n51               Molenwijk (Amsterdam)\n52          Museumkwartier (Amsterdam)\n63         Oosterparkbuurt (Amsterdam)\n77               Rapenburg (Amsterdam)\n79           Rivierenbuurt (Amsterdam)\n84         Slotervaart (neighbourhood)\n86       Staatsliedenbuurt (Amsterdam)\n89                Teleport (Amsterdam)\n90          Transvaalbuurt (Amsterdam)\n94               Uilenburg (Amsterdam)\n98            Weesperzijde (Amsterdam)\n100    Westelijke Eilanden (Amsterdam)\n102         Westerpark (neighbourhood)\n103            Willemspark (Amsterdam)\nName: Neighbourhood, dtype: object"
                    },
                    "execution_count": 35,
                    "metadata": {},
                    "output_type": "execute_result"
                }
            ],
            "source": "df1.loc[df1.Neighbourhood.str.contains('\\('), 'Neighbourhood']"
        },
        {
            "cell_type": "code",
            "execution_count": null,
            "metadata": {
                "scrolled": true
            },
            "outputs": [],
            "source": "df_list = pd.read_html(html_table)\ndf = df_list[0]\ndf.rename(columns={'Postal Code':'Postcode'},inplace=True)\nprint(df.shape)\ndf"
        },
        {
            "cell_type": "code",
            "execution_count": null,
            "metadata": {},
            "outputs": [],
            "source": ""
        }
    ],
    "metadata": {
        "kernelspec": {
            "display_name": "Python 3.7",
            "language": "python",
            "name": "python3"
        },
        "language_info": {
            "codemirror_mode": {
                "name": "ipython",
                "version": 3
            },
            "file_extension": ".py",
            "mimetype": "text/x-python",
            "name": "python",
            "nbconvert_exporter": "python",
            "pygments_lexer": "ipython3",
            "version": "3.7.9"
        }
    },
    "nbformat": 4,
    "nbformat_minor": 1
}