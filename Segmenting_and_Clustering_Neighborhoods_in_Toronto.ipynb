{
    "cells": [
        {
            "cell_type": "markdown",
            "metadata": {
                "collapsed": true
            },
            "source": "# Segmenting and Clustering Neighbourhoods in Toronto"
        },
        {
            "cell_type": "markdown",
            "metadata": {},
            "source": "In this notebook the neighborhoods in the city of Toronto will be segmented en clustered based on the postalcode and borough information.\n\nFor the Toronto neighborhood data, a Wikipedia page exists that has all the information that is neccessary to explore and cluster the neighborhoods in Toronto. \nThe required HTML table from the Wikipedia page will be used to read into a pandas dataframe.\nAfter cleaning the dataset it will be enriched with the geographical coordinates."
        },
        {
            "cell_type": "code",
            "execution_count": null,
            "metadata": {},
            "outputs": [],
            "source": ""
        }
    ],
    "metadata": {
        "kernelspec": {
            "display_name": "Python 3.7",
            "language": "python",
            "name": "python3"
        },
        "language_info": {
            "codemirror_mode": {
                "name": "ipython",
                "version": 3
            },
            "file_extension": ".py",
            "mimetype": "text/x-python",
            "name": "python",
            "nbconvert_exporter": "python",
            "pygments_lexer": "ipython3",
            "version": "3.7.9"
        }
    },
    "nbformat": 4,
    "nbformat_minor": 1
}