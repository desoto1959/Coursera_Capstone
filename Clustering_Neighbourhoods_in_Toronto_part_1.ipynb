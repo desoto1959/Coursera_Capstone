{
    "cells": [
        {
            "cell_type": "markdown",
            "metadata": {
                "collapsed": true
            },
            "source": "# Segmenting and Clustering Neighbourhoods in Toronto"
        },
        {
            "cell_type": "markdown",
            "metadata": {},
            "source": "In this notebook the neighbourhoods in the city of Toronto will be segmented en clustered based on the postalcode and borough information.<br><br>\nFor the Toronto neighbourhood data, a Wikipedia page exists that has all the information that is neccessary to explore and cluster the neighbourhoods in Toronto.<br> \nThe required HTML table from the Wikipedia page will be used to read into a pandas dataframe.<br>"
        },
        {
            "cell_type": "markdown",
            "metadata": {},
            "source": "## Importing libraries"
        },
        {
            "cell_type": "code",
            "execution_count": null,
            "metadata": {},
            "outputs": [],
            "source": "!pip install beautifulsoup4\n!pip install lxml\nimport requests # library to handle requests\nimport pandas as pd # library for data analsysis\nimport numpy as np # library to handle data in a vectorized manner\n\nfrom bs4 import BeautifulSoup # Library for scraping webpage\nfrom IPython.display import display_html # Library for displaying HTML\n\nprint('Importing ready!')"
        },
        {
            "cell_type": "markdown",
            "metadata": {},
            "source": "## Retreive the postal codes of Canada from Wikipedia webpage"
        },
        {
            "cell_type": "code",
            "execution_count": null,
            "metadata": {},
            "outputs": [],
            "source": "# Get webpage\nsource = requests.get('https://en.wikipedia.org/wiki/List_of_postal_codes_of_Canada:_M').text\n# Scrape webpage\nbsoup = BeautifulSoup(source,'lxml')\n# Check title of webpage\nprint(bsoup.title)\n# Get table from webpage\nhtml_table = str(bsoup.table)\n# Display table\ndisplay_html(html_table,raw=True)"
        },
        {
            "cell_type": "markdown",
            "metadata": {},
            "source": "## Convert HTML table to Dataframe for preprocessing"
        },
        {
            "cell_type": "code",
            "execution_count": null,
            "metadata": {
                "scrolled": true
            },
            "outputs": [],
            "source": "df_list = pd.read_html(html_table)\ndf = df_list[0]\ndf.rename(columns={'Postal Code':'Postcode'},inplace=True)\nprint(df.shape)\ndf"
        },
        {
            "cell_type": "markdown",
            "metadata": {},
            "source": "## Cleaning en preparing dataset"
        },
        {
            "cell_type": "markdown",
            "metadata": {},
            "source": "### 1 - Check for 'Not assigned' boroughs."
        },
        {
            "cell_type": "code",
            "execution_count": null,
            "metadata": {},
            "outputs": [],
            "source": "df.loc[df.Neighbourhood == 'Not assigned', 'Neighbourhood'].count()"
        },
        {
            "cell_type": "markdown",
            "metadata": {},
            "source": "There are 77 'Not assigned' boroughs.<br>\nThe rows with a borough that is Not assigned must be ignored."
        },
        {
            "cell_type": "code",
            "execution_count": null,
            "metadata": {},
            "outputs": [],
            "source": "# Creating a new dataframe without the 'Not assigned' Boroughs\ndf1 = df[df.Borough != 'Not assigned']\ndf1.shape"
        },
        {
            "cell_type": "markdown",
            "metadata": {},
            "source": "### 2 - Check for the existance of more than one neighbourhood in one postal code area. "
        },
        {
            "cell_type": "code",
            "execution_count": null,
            "metadata": {},
            "outputs": [],
            "source": "# Create a temporary dataframe with the number of neighbourhoods per postcode, borough\ntemp = df1.groupby(['Postcode','Borough'], sort=False).count().rename({'Neighbourhood': 'counts'}, axis=1)\nprint(temp[temp == 1].count())\nprint(temp[temp > 1].count())"
        },
        {
            "cell_type": "markdown",
            "metadata": {},
            "source": "There are NO postal code areas in the dataframe with more neighbourhouds.<br>\nThe following code for combining the neighbourhoods with the same postal code, is not necessary to execute!"
        },
        {
            "cell_type": "code",
            "execution_count": null,
            "metadata": {},
            "outputs": [],
            "source": "# Combining the neighbourhoods with same Postalcode\ndf1 = df1.groupby(['Postcode','Borough'], sort=False).agg(', '.join)\ndf1.reset_index(inplace=True)"
        },
        {
            "cell_type": "markdown",
            "metadata": {},
            "source": "### 3 - Check for Not assigned  neighbourhoods, and then replace these neighbourhoods with it's borough"
        },
        {
            "cell_type": "code",
            "execution_count": null,
            "metadata": {},
            "outputs": [],
            "source": "# Count number of 'Not assigned' Neighbourhoods\ndf1.loc[df1.Neighbourhood == 'Not assigned', 'Neighbourhood'].count()"
        },
        {
            "cell_type": "markdown",
            "metadata": {},
            "source": "There are NO neighbourhouds that are 'Not assigned'.<br>\nSo the following code for setting the 'Not assigned' neighbourhoods to borough is not necessary!"
        },
        {
            "cell_type": "code",
            "execution_count": null,
            "metadata": {},
            "outputs": [],
            "source": "# Replacing the name of the 'Not assigned' neighbourhoods with names of Borough\ndf1['Neighbourhood'] = np.where(df1['Neighbourhood'] == 'Not assigned',df1['Borough'], df1['Neighbourhood'])\ndf1"
        },
        {
            "cell_type": "markdown",
            "metadata": {},
            "source": "### Dataframe after preprocessing the data"
        },
        {
            "cell_type": "code",
            "execution_count": null,
            "metadata": {
                "scrolled": true
            },
            "outputs": [],
            "source": "# Shape of data frame\ndf1.shape"
        }
    ],
    "metadata": {
        "kernelspec": {
            "display_name": "Python 3.7",
            "language": "python",
            "name": "python3"
        },
        "language_info": {
            "codemirror_mode": {
                "name": "ipython",
                "version": 3
            },
            "file_extension": ".py",
            "mimetype": "text/x-python",
            "name": "python",
            "nbconvert_exporter": "python",
            "pygments_lexer": "ipython3",
            "version": "3.7.9"
        }
    },
    "nbformat": 4,
    "nbformat_minor": 1
}